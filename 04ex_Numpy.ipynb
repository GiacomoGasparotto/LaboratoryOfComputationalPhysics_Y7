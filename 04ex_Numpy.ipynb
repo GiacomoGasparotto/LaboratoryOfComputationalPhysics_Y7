{
 "cells": [
  {
   "cell_type": "markdown",
   "metadata": {},
   "source": [
    "### Numpy basics"
   ]
  },
  {
   "cell_type": "code",
   "execution_count": 1,
   "metadata": {},
   "outputs": [],
   "source": [
    "import numpy as np"
   ]
  },
  {
   "cell_type": "markdown",
   "metadata": {},
   "source": [
    "1\\. Find the row, column and overall means for the following matrix:\n",
    "\n",
    "```python\n",
    "m = np.arange(12).reshape((3,4))\n",
    "```"
   ]
  },
  {
   "cell_type": "code",
   "execution_count": 12,
   "metadata": {},
   "outputs": [
    {
     "name": "stdout",
     "output_type": "stream",
     "text": [
      "Mean of the 0 row: 1.5\n",
      "Mean of the 1 row: 5.5\n",
      "Mean of the 2 row: 9.5\n",
      "\n",
      "\n",
      "Mean of the 0 column: 4.0\n",
      "Mean of the 1 column: 5.0\n",
      "Mean of the 2 column: 6.0\n",
      "Mean of the 3 column: 7.0\n",
      "\n",
      "\n",
      "Overall mean: 5.5\n"
     ]
    }
   ],
   "source": [
    "m = np.arange(12).reshape((3, 4))\n",
    "\n",
    "# Mean of each row\n",
    "for i in range(3):\n",
    "    print(\"Mean of the\", i, \"row:\", np.mean(m[i, :]))\n",
    "print(\"\\n\")\n",
    "\n",
    "# Mean of each column\n",
    "for i in range(4):\n",
    "    print(\"Mean of the\", i, \"column:\", np.mean(m[:, i]))\n",
    "print(\"\\n\")\n",
    "\n",
    "# Overall mean\n",
    "print(\"Overall mean:\", np.mean(m))\n"
   ]
  },
  {
   "cell_type": "markdown",
   "metadata": {},
   "source": [
    "2\\. Find the outer product of the following two vecotrs\n",
    "\n",
    "```python\n",
    "u = np.array([1,3,5,7])\n",
    "v = np.array([2,4,6,8])\n",
    "```\n",
    "\n",
    "Do this in the following ways:\n",
    "\n",
    "   * Using the function outer in numpy\n",
    "   * Using a nested for loop or list comprehension\n",
    "   * Using numpy broadcasting operatoins\n"
   ]
  },
  {
   "cell_type": "code",
   "execution_count": 27,
   "metadata": {},
   "outputs": [
    {
     "name": "stdout",
     "output_type": "stream",
     "text": [
      "[[ 2  4  6  8]\n",
      " [ 6 12 18 24]\n",
      " [10 20 30 40]\n",
      " [14 28 42 56]]\n",
      "[[ 2.  4.  6.  8.]\n",
      " [ 6. 12. 18. 24.]\n",
      " [10. 20. 30. 40.]\n",
      " [14. 28. 42. 56.]]\n",
      "[[ 2  4  6  8]\n",
      " [ 6 12 18 24]\n",
      " [10 20 30 40]\n",
      " [14 28 42 56]]\n"
     ]
    }
   ],
   "source": [
    "u = np.array([1, 3, 5, 7])\n",
    "v = np.array([2, 4, 6, 8])\n",
    "\n",
    "# Numpy function\n",
    "out1 = np.outer(u, v)\n",
    "print(out1)\n",
    "\n",
    "# List comprehension\n",
    "out2 = np.empty((4, 4))\n",
    "\n",
    "for i in range(len(u)):\n",
    "    for j in range(len(v)):\n",
    "        out2[i, j] = u[i]*v[j]\n",
    "\n",
    "print(out2)\n",
    "\n",
    "# Numpy broadcasting\n",
    "u1 = np.tile(u, (4, 1)).T\n",
    "out3 = u1*v\n",
    "print(out3)"
   ]
  },
  {
   "cell_type": "markdown",
   "metadata": {},
   "source": [
    "3\\. Create a 10 by 6 matrix of random uniform numbers. Set all rows with any entry less than 0.1 to be zero\n",
    "\n",
    "Hint: Use the following numpy functions - np.random.random, np.any as well as Boolean indexing and the axis argument."
   ]
  },
  {
   "cell_type": "code",
   "execution_count": 59,
   "metadata": {},
   "outputs": [
    {
     "name": "stdout",
     "output_type": "stream",
     "text": [
      "[[0.01858075 0.02273633 0.21473678 0.18960586 0.60636518 0.19624967]\n",
      " [0.74983618 0.23046305 0.65096011 0.1247178  0.5591687  0.07893258]\n",
      " [0.53089868 0.14114565 0.75371141 0.25198785 0.83357491 0.88708904]\n",
      " [0.99296878 0.51680008 0.03020344 0.30169597 0.67157618 0.8291536 ]\n",
      " [0.52679084 0.34917087 0.47225239 0.99348483 0.31799746 0.2514355 ]\n",
      " [0.78897153 0.30694963 0.84213298 0.73260734 0.66172463 0.5421401 ]\n",
      " [0.36866572 0.67200838 0.21564709 0.08734151 0.3283023  0.75317283]\n",
      " [0.34254946 0.87256576 0.35325694 0.77468141 0.72700886 0.26525388]\n",
      " [0.71019721 0.07057284 0.11345377 0.98723105 0.92373652 0.77095993]\n",
      " [0.46060602 0.28196258 0.59341747 0.63545671 0.62181395 0.74676399]] \n",
      "\n",
      "Mask: [ True  True False  True False False  True False  True False] \n",
      "\n",
      "[[0.01858075 0.02273633 0.21473678 0.18960586 0.60636518 0.19624967]\n",
      " [0.74983618 0.23046305 0.65096011 0.1247178  0.5591687  0.07893258]\n",
      " [0.         0.         0.         0.         0.         0.        ]\n",
      " [0.99296878 0.51680008 0.03020344 0.30169597 0.67157618 0.8291536 ]\n",
      " [0.         0.         0.         0.         0.         0.        ]\n",
      " [0.         0.         0.         0.         0.         0.        ]\n",
      " [0.36866572 0.67200838 0.21564709 0.08734151 0.3283023  0.75317283]\n",
      " [0.         0.         0.         0.         0.         0.        ]\n",
      " [0.71019721 0.07057284 0.11345377 0.98723105 0.92373652 0.77095993]\n",
      " [0.         0.         0.         0.         0.         0.        ]]\n"
     ]
    }
   ],
   "source": [
    "import numpy.random as npr\n",
    "\n",
    "# Create the matrix\n",
    "m = npr.rand(10, 6)\n",
    "print(m, \"\\n\")\n",
    "\n",
    "# Define the mask\n",
    "mask = np.any(m<0.1, axis=1)\n",
    "print(\"Mask:\", mask, \"\\n\")\n",
    "\n",
    "# Put to zero all the masked values\n",
    "for i, j in enumerate(mask):\n",
    "    if j == False:\n",
    "        m[i, :] = 0\n",
    "\n",
    "print(m)"
   ]
  },
  {
   "cell_type": "markdown",
   "metadata": {},
   "source": [
    "4\\. Use np.linspace to create an array of 100 numbers between 0 and 2π (includsive).\n",
    "\n",
    "  * Extract every 10th element using slice notation\n",
    "  * Reverse the array using slice notation\n",
    "  * Extract elements where the absolute difference between the sine and cosine functions evaluated at that element is less than 0.1\n",
    "  * Make a plot showing the sin and cos functions and indicate where they are close"
   ]
  },
  {
   "cell_type": "code",
   "execution_count": 151,
   "metadata": {},
   "outputs": [
    {
     "name": "stdout",
     "output_type": "stream",
     "text": [
      "[0.         0.06346652 0.12693304 0.19039955 0.25386607 0.31733259\n",
      " 0.38079911 0.44426563 0.50773215 0.57119866 0.63466518 0.6981317\n",
      " 0.76159822 0.82506474 0.88853126 0.95199777 1.01546429 1.07893081\n",
      " 1.14239733 1.20586385 1.26933037 1.33279688 1.3962634  1.45972992\n",
      " 1.52319644 1.58666296 1.65012947 1.71359599 1.77706251 1.84052903\n",
      " 1.90399555 1.96746207 2.03092858 2.0943951  2.15786162 2.22132814\n",
      " 2.28479466 2.34826118 2.41172769 2.47519421 2.53866073 2.60212725\n",
      " 2.66559377 2.72906028 2.7925268  2.85599332 2.91945984 2.98292636\n",
      " 3.04639288 3.10985939 3.17332591 3.23679243 3.30025895 3.36372547\n",
      " 3.42719199 3.4906585  3.55412502 3.61759154 3.68105806 3.74452458\n",
      " 3.8079911  3.87145761 3.93492413 3.99839065 4.06185717 4.12532369\n",
      " 4.1887902  4.25225672 4.31572324 4.37918976 4.44265628 4.5061228\n",
      " 4.56958931 4.63305583 4.69652235 4.75998887 4.82345539 4.88692191\n",
      " 4.95038842 5.01385494 5.07732146 5.14078798 5.2042545  5.26772102\n",
      " 5.33118753 5.39465405 5.45812057 5.52158709 5.58505361 5.64852012\n",
      " 5.71198664 5.77545316 5.83891968 5.9023862  5.96585272 6.02931923\n",
      " 6.09278575 6.15625227 6.21971879 6.28318531] \n",
      "\n"
     ]
    },
    {
     "data": {
      "image/png": "[encoded data removed]",
      "text/plain": [
       "<Figure size 640x480 with 1 Axes>"
      ]
     },
     "metadata": {},
     "output_type": "display_data"
    }
   ],
   "source": [
    "array = np.linspace(0, 2*np.pi, 100)\n",
    "print(array, \"\\n\")\n",
    "\n",
    "# Extract every 10th element using slice notation\n",
    "extract = array[::10]\n",
    "# print(extract)\n",
    "\n",
    "# Reverse the array using the slice notation\n",
    "reverse = array[::-1]\n",
    "#print(reverse)\n",
    "\n",
    "# Extract the elements where the absolute difference between the sine and cosine function evaluated at that element is less than 0.1\n",
    "extracted_array = np.array([])\n",
    "diff = 0\n",
    "for j, i in enumerate(array):\n",
    "    diff = np.abs(np.cos(i)-np.sin(i))\n",
    "\n",
    "    if diff < 0.1:\n",
    "        extracted_array = np.append(extracted_array, array[j])\n",
    "\n",
    "# print(extracted_array)\n",
    "        \n",
    "# Make a plot showing the sin and cos functions and indicate where they are close\n",
    "import matplotlib.pyplot as plt \n",
    "\n",
    "plt.plot(array, np.cos(array), label=\"cosine\")\n",
    "plt.plot(array, np.sin(array), label=\"sine\")\n",
    "plt.legend()\n",
    "plt.show()"
   ]
  },
  {
   "cell_type": "markdown",
   "metadata": {},
   "source": [
    "5\\. Create a matrix that shows the 10 by 10 multiplication table.\n",
    "\n",
    " * Find the trace of the matrix\n",
    " * Extract the anto-diagonal (this should be ```array([10, 18, 24, 28, 30, 30, 28, 24, 18, 10])```)\n",
    " * Extract the diagnoal offset by 1 upwards (this should be ```array([ 2,  6, 12, 20, 30, 42, 56, 72, 90])```)"
   ]
  },
  {
   "cell_type": "code",
   "execution_count": 92,
   "metadata": {},
   "outputs": [
    {
     "name": "stdout",
     "output_type": "stream",
     "text": [
      "[[  1   2   3   4   5   6   7   8   9  10]\n",
      " [  2   4   6   8  10  12  14  16  18  20]\n",
      " [  3   6   9  12  15  18  21  24  27  30]\n",
      " [  4   8  12  16  20  24  28  32  36  40]\n",
      " [  5  10  15  20  25  30  35  40  45  50]\n",
      " [  6  12  18  24  30  36  42  48  54  60]\n",
      " [  7  14  21  28  35  42  49  56  63  70]\n",
      " [  8  16  24  32  40  48  56  64  72  80]\n",
      " [  9  18  27  36  45  54  63  72  81  90]\n",
      " [ 10  20  30  40  50  60  70  80  90 100]]\n",
      "Trace 385\n",
      "Anti-diagonal [10 18 24 28 30 30 28 24 18 10]\n",
      "Diagonal offset 1 [ 2  6 12 20 30 42 56 72 90]\n"
     ]
    }
   ],
   "source": [
    "m = np.tile(np.arange(1, 11), (10, 1)).T\n",
    "mat = m*np.arange(1, 11)\n",
    "print(mat)\n",
    "\n",
    "# Trace\n",
    "print(\"Trace\", np.trace(mat))\n",
    "\n",
    "# Anti-diagonal\n",
    "print(\"Anti-diagonal\", np.fliplr(mat).diagonal())\n",
    "\n",
    "# Diagonal offset 1 upwards\n",
    "print(\"Diagonal offset 1\", np.diagonal(mat, offset=1))"
   ]
  },
  {
   "cell_type": "markdown",
   "metadata": {},
   "source": [
    "6\\. Use broadcasting to create a grid of distances\n",
    "\n",
    "Route 66 crosses the following cities in the US: Chicago, Springfield, Saint-Louis, Tulsa, Oklahoma City, Amarillo, Santa Fe, Albuquerque, Flagstaff, Los Angeles\n",
    "The corresponding positions in miles are: 0, 198, 303, 736, 871, 1175, 1475, 1544, 1913, 2448\n",
    "\n",
    "  * Construct a 2D grid of distances among each city along Route 66\n",
    "  * Convert that in km (those savages...)"
   ]
  },
  {
   "cell_type": "code",
   "execution_count": 130,
   "metadata": {},
   "outputs": [
    {
     "name": "stdout",
     "output_type": "stream",
     "text": [
      "[[   0  198  303  736  871 1175 1475 1544 1913 2448]\n",
      " [ 198    0  105  538  673  977 1277 1346 1715 2250]\n",
      " [ 303  105    0  433  568  872 1172 1241 1610 2145]\n",
      " [ 736  538  433    0  135  439  739  808 1177 1712]\n",
      " [ 871  673  568  135    0  304  604  673 1042 1577]\n",
      " [1175  977  872  439  304    0  300  369  738 1273]\n",
      " [1475 1277 1172  739  604  300    0   69  438  973]\n",
      " [1544 1346 1241  808  673  369   69    0  369  904]\n",
      " [1913 1715 1610 1177 1042  738  438  369    0  535]\n",
      " [2448 2250 2145 1712 1577 1273  973  904  535    0]] \n",
      "\n",
      "[[   0.   316.8  484.8 1177.6 1393.6 1880.  2360.  2470.4 3060.8 3916.8]\n",
      " [ 316.8    0.   168.   860.8 1076.8 1563.2 2043.2 2153.6 2744.  3600. ]\n",
      " [ 484.8  168.     0.   692.8  908.8 1395.2 1875.2 1985.6 2576.  3432. ]\n",
      " [1177.6  860.8  692.8    0.   216.   702.4 1182.4 1292.8 1883.2 2739.2]\n",
      " [1393.6 1076.8  908.8  216.     0.   486.4  966.4 1076.8 1667.2 2523.2]\n",
      " [1880.  1563.2 1395.2  702.4  486.4    0.   480.   590.4 1180.8 2036.8]\n",
      " [2360.  2043.2 1875.2 1182.4  966.4  480.     0.   110.4  700.8 1556.8]\n",
      " [2470.4 2153.6 1985.6 1292.8 1076.8  590.4  110.4    0.   590.4 1446.4]\n",
      " [3060.8 2744.  2576.  1883.2 1667.2 1180.8  700.8  590.4    0.   856. ]\n",
      " [3916.8 3600.  3432.  2739.2 2523.2 2036.8 1556.8 1446.4  856.     0. ]]\n"
     ]
    }
   ],
   "source": [
    "miles = np.array([0, 198, 303, 736, 871, 1175, 1475, 1544, 1913, 2448])\n",
    "dist_miles = np.array([np.abs(m - miles) for m in miles])\n",
    "print(dist_miles, \"\\n\")\n",
    "\n",
    "dist_km = dist_miles*1.6\n",
    "print(dist_km)"
   ]
  },
  {
   "cell_type": "markdown",
   "metadata": {},
   "source": [
    "7\\. Prime numbers sieve: compute the prime numbers in the 0-N (N=99 to start with) range with a sieve (mask).\n",
    "  * Constract a shape (100,) boolean array, the mask\n",
    "  * Identify the multiples of each number starting from 2 and set accordingly the corresponding mask element\n",
    "  * Apply the mask to obtain an array of ordered prime numbers\n",
    "  * Check the performances (timeit); how does it scale with N?\n",
    "  * Implement the optimization suggested in the [sieve of Eratosthenes](https://en.wikipedia.org/wiki/Sieve_of_Eratosthenes)"
   ]
  },
  {
   "cell_type": "code",
   "execution_count": 129,
   "metadata": {},
   "outputs": [
    {
     "name": "stdout",
     "output_type": "stream",
     "text": [
      "[ 2  3  5  7 11 13 17 19 23 29 31 37 41]\n"
     ]
    }
   ],
   "source": [
    "import time\n",
    "\n",
    "# Define the initial arrays\n",
    "numbers = np.arange(2, 100)\n",
    "prime_numbers = np.array([2])\n",
    "\n",
    "# Define the mask\n",
    "i = 2\n",
    "while i<len(numbers):\n",
    "\n",
    "    # Define the mask\n",
    "    mask = (numbers%numbers[0] == 0)\n",
    "\n",
    "    # Delete all the elements that are not present in the mask and append the current prime number\n",
    "    numbers = numbers[~mask]\n",
    "    prime_numbers = np.append(prime_numbers, numbers[0])\n",
    "\n",
    "    i+=1\n",
    "        \n",
    "print(prime_numbers)"
   ]
  },
  {
   "cell_type": "markdown",
   "metadata": {},
   "source": [
    "**N.B. the following exercises are meant to be solved only if you are familiar with the numpy random library. If not you can skip them (postponed for one of the next exercise sessions)**\n"
   ]
  },
  {
   "cell_type": "markdown",
   "metadata": {},
   "source": [
    "8\\. Diffusion using random walk\n",
    "\n",
    "Consider a simple random walk process: at each step in time, a walker jumps right or left (+1 or -1) with equal probability. The goal is to find the typical distance from the origin of a random walker after a given amount of time. \n",
    "To do that, let's simulate many walkers and create a 2D array with each walker as a raw and the actual time evolution as columns\n",
    "\n",
    "  * Take 1000 walkers and let them walk for 200 steps\n",
    "  * Use randint to create a 2D array of size walkers x steps with values -1 or 1\n",
    "  * Build the actual walking distances for each walker (i.e. another 2D array \"summing on each raw\")\n",
    "  * Take the square of that 2D array (elementwise)\n",
    "  * Compute the mean of the squared distances at each step (i.e. the mean along the columns)\n",
    "  * Plot the average distances (sqrt(distance\\*\\*2)) as a function of time (step)\n",
    "  \n",
    "Did you get what you expected?"
   ]
  },
  {
   "cell_type": "code",
   "execution_count": 154,
   "metadata": {},
   "outputs": [
    {
     "name": "stdout",
     "output_type": "stream",
     "text": [
      "[-1 -1  1  1  1  1  1 -1 -1  1  1 -1 -1 -1  1  1  1 -1 -1  1 -1  1  1 -1\n",
      " -1  1 -1  1  1  1  1 -1  1 -1 -1  1 -1  1 -1  1  1  1 -1  1 -1 -1 -1  1\n",
      " -1  1  1 -1  1  1  1  1  1  1  1  1 -1  1  1 -1  1  1 -1  1  1  1 -1  1\n",
      " -1  1 -1  1  1  1  1 -1  1 -1 -1 -1 -1 -1 -1  1 -1 -1 -1 -1 -1 -1 -1 -1\n",
      "  1  1 -1  1 -1  1  1  1  1 -1 -1 -1  1 -1 -1 -1  1  1 -1  1  1  1 -1  1\n",
      "  1 -1  1  1  1  1  1  1 -1 -1  1 -1 -1  1  1 -1  1 -1 -1 -1 -1  1  1  1\n",
      "  1 -1 -1 -1 -1  1 -1 -1 -1 -1 -1 -1  1 -1  1 -1  1 -1 -1 -1  1  1 -1 -1\n",
      "  1  1 -1  1 -1  1  1 -1 -1 -1  1 -1 -1  1  1 -1 -1  1 -1  1  1 -1 -1 -1\n",
      " -1  1 -1  1  1  1  1 -1]\n"
     ]
    }
   ],
   "source": [
    "size_walkers = 2*npr.randint(0, 2, size=(1000, 200))-1\n",
    "print(size_walkers)\n",
    "\n",
    "step = np.array([])\n",
    "for i in size_walkers:\n",
    "    # Set the first step\n",
    "    step = np.append(step, i[0])\n",
    "\n",
    "    for j, k in enumerate(size_walkers[1, :]):\n",
    "        step = \n"
   ]
  },
  {
   "cell_type": "markdown",
   "metadata": {},
   "source": [
    "9\\. Analyze a data file \n",
    "  * Download the population of hares, lynxes and carrots at the beginning of the last century.\n",
    "    ```python\n",
    "    ! wget https://www.dropbox.com/s/3vigxoqayo389uc/populations.txt\n",
    "    ```\n",
    "\n",
    "  * Check the content by looking within the file\n",
    "  * Load the data (use an appropriate numpy method) into a 2D array\n",
    "  * Create arrays out of the columns, the arrays being (in order): *year*, *hares*, *lynxes*, *carrots* \n",
    "  * Plot the 3 populations over the years\n",
    "  * Compute the main statistical properties of the dataset (mean, std, correlations, etc.)\n",
    "  * Which species has the highest population each year?\n",
    "\n",
    "Do you feel there is some evident correlation here? [Studies](https://www.enr.gov.nt.ca/en/services/lynx/lynx-snowshoe-hare-cycle) tend to believe so."
   ]
  }
 ],
 "metadata": {
  "kernelspec": {
   "display_name": "Python 3 (ipykernel)",
   "language": "python",
   "name": "python3"
  },
  "language_info": {
   "codemirror_mode": {
    "name": "ipython",
    "version": 3
   },
   "file_extension": ".py",
   "mimetype": "text/x-python",
   "name": "python",
   "nbconvert_exporter": "python",
   "pygments_lexer": "ipython3",
   "version": "3.12.0"
  }
 },
 "nbformat": 4,
 "nbformat_minor": 2
}
