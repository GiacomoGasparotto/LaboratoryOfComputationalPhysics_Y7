{
 "cells": [
  {
   "cell_type": "markdown",
   "metadata": {},
   "source": [
    "1\\. Write a function that converts number representation, bin<->dec<->hex. (Clearly using the corresponding python built-in functions is not fair..)"
   ]
  },
  {
<<<<<<< HEAD
   "cell_type": "code",
   "execution_count": 12,
   "metadata": {},
   "outputs": [],
   "source": [
    "def convert(number, n_start, n_stop):\n",
    "\n",
    "    dec[0] = 0\n",
    "    bin[0] = 0\n",
    "    hex[0] = 0\n",
    "\n",
    "    # binary to decimal\n",
    "    bin.reverse()\n",
    "    for i in range(bin):\n",
    "        bin += 2**i\n",
    "    \n",
    "    # hexadecimal to decimal\n",
    "    hex.reverse()\n",
    "    for i in range(hex):\n",
    "        dec = 1\n",
    "\n",
    "    return number\n",
    "\n",
    "number = \"01000101001\"\n",
    "bin = []\n"
   ]
  },
  {
=======
>>>>>>> upstream/main
   "cell_type": "markdown",
   "metadata": {},
   "source": [
    "2\\. Write a function that converts a 32 bit word into a single precision floating point (i.e. interprets the various bits as sign, mantissa and exponent)"
   ]
  },
  {
<<<<<<< HEAD
   "cell_type": "code",
   "execution_count": 28,
   "metadata": {},
   "outputs": [
    {
     "name": "stdout",
     "output_type": "stream",
     "text": [
      "1351494569\n"
     ]
    }
   ],
   "source": [
    "def floating_point_converter(N):\n",
    "\n",
    "    # reverse the string with the number\n",
    "\n",
    "\n",
    "    s = float(N[31]) # sign \n",
    "    e = float(N[23:30]) # exponent\n",
    "    m = float(N[0:22]) # mantissa\n",
    "\n",
    "    # from binary to decimal\n",
    "    exponent = 0\n",
    "    for i, j in enumerate(e):\n",
    "        exponent += j**i\n",
    "    \n",
    "    mantissa = 0\n",
    "    for i, j in enumerate(m):\n",
    "        mantissa += j**i\n",
    "    \n",
    "    value = (-1)**s * 2**(exponent-127) * mantissa\n",
    "    return value\n",
    "\n",
    "N = 0b01010000100011100010101110101001\n",
    "print(N)"
   ]
  },
  {
   "cell_type": "code",
   "execution_count": null,
   "metadata": {},
   "outputs": [],
   "source": [
    "# TO BE MODIFIED!!!!!\n",
    "def float32(n):\n",
    "    bias = 127                     # bias for single precision\n",
    "\n",
    "    # find the sign\n",
    "    sign = int(n[0])               # sign is the first digit\n",
    "    if sign == 0:\n",
    "        sign = 1\n",
    "    else:\n",
    "        sign = -1   \n",
    "\n",
    "    # convert the exponent\n",
    "    exp = [n[i] for i in range(1, 9)]\n",
    "    exp = ''.join(exp)\n",
    "    exp = int(exp, 2) - bias\n",
    "\n",
    "    # convert mantissa\n",
    "    m = [n[i] for i in range(9, 32)]\n",
    "    mant = [int(m[i]) * pow(2, -(i+1)) for i in range(len(m))]\n",
    "    mant = sum(mant)\n",
    "    \n",
    "    print(sign * (mant + 1) * pow(2, exp))\n",
    "\n",
    "float32('110000001011000000000000000000000')\n",
    "float32('00000011111000000000000000000000')"
   ]
  },
  {
=======
>>>>>>> upstream/main
   "cell_type": "markdown",
   "metadata": {},
   "source": [
    "3\\. Write a program to determine the underflow and overflow limits (within a factor of 2) for python on your computer. \n",
    "\n",
    "**Tips**: define two variables inizialized to 1 and halve/double them enough time to exceed the under/over-flow limits  "
   ]
  },
  {
   "cell_type": "markdown",
   "metadata": {},
   "source": [
    "4\\. Write a program to determine the machine precision\n",
    "\n",
    "**Tips**: define a new variable by adding a smaller and smaller value (proceeding similarly to prob. 2) to an original variable and check the point where the two are the same "
   ]
  },
  {
   "cell_type": "markdown",
   "metadata": {},
   "source": [
    "5\\. Write a function that takes in input three parameters $a$, $b$ and $c$ and prints out the two solutions to the quadratic equation $ax^2+bx+c=0$ using the standard formula:\n",
    "$$\n",
    "x=\\frac{-b\\pm\\sqrt{b^2-4ac}}{2a}\n",
    "$$\n",
    "\n",
    "(a) use the program to compute the solution for $a=0.001$, $b=1000$ and $c=0.001$\n",
    "\n",
    "(b) re-express the standard solution formula by multiplying top and bottom by $-b\\mp\\sqrt{b^2-4ac}$ and again find the solution for $a=0.001$, $b=1000$ and $c=0.001$. How does it compare with what previously obtained? Why?\n",
    "\n",
    "(c) write a function that compute the roots of a quadratic equation accurately in all cases"
   ]
  },
  {
<<<<<<< HEAD
   "cell_type": "code",
   "execution_count": 31,
   "metadata": {},
   "outputs": [
    {
     "name": "stdout",
     "output_type": "stream",
     "text": [
      "(-9.999894245993346e-07, -999999.999999)\n"
     ]
    }
   ],
   "source": [
    "from math import sqrt\n",
    "\n",
    "# a\n",
    "def quadratic_eq(a, b, c):\n",
    "    x1 = (-b + sqrt(b**2 - 4.*a*c))/(2.*a)\n",
    "    x2 = (-b - sqrt(b**2 - 4.*a*c))/(2.*a)\n",
    "\n",
    "    return x1, x2\n",
    "\n",
    "a, b, c = 0.001, 1000, 0.001\n",
    "print(quadratic_eq(a, b, c))"
   ]
  },
  {
   "cell_type": "code",
   "execution_count": 35,
   "metadata": {},
   "outputs": [
    {
     "name": "stdout",
     "output_type": "stream",
     "text": [
      "(-9.999894245993346e-07, -999999.9999990001)\n"
     ]
    }
   ],
   "source": [
    "# b\n",
    "def quadratic_eq_reinterpreted(a, b, c):\n",
    "    factor1 = -b - sqrt(b**2 - 4.*a*c)\n",
    "    factor2 = -b + sqrt(b**2 - 4.*a*c)\n",
    "\n",
    "    x1 = ((-b + sqrt(b**2 - 4.*a*c))*factor1) / ((2.*a)*factor1)\n",
    "    x2 = ((-b - sqrt(b**2 - 4.*a*c))*factor2) / ((2.*a)*factor2)\n",
    "\n",
    "    return x1, x2\n",
    "\n",
    "a, b, c = 0.001, 1000, 0.001\n",
    "print(quadratic_eq_reinterpreted(a, b, c))"
   ]
  },
  {
   "cell_type": "code",
   "execution_count": null,
   "metadata": {},
   "outputs": [],
   "source": [
    "# c"
   ]
  },
  {
=======
>>>>>>> upstream/main
   "cell_type": "markdown",
   "metadata": {},
   "source": [
    "6\\. Write a program that implements the function $f(x)=x(x−1)$\n",
    "\n",
    "(a) Calculate the derivative of the function at the point $x = 1$ using the derivative definition:\n",
    "\n",
    "$$\n",
    "\\frac{{\\rm d}f}{{\\rm d}x} = \\lim_{\\delta\\to0} \\frac{f(x+\\delta)-f(x)}{\\delta}\n",
    "$$\n",
    "\n",
    "with $\\delta = 10^{−2}$. Calculate the true value of the same derivative analytically and compare with the answer your program gives. The two will not agree perfectly. Why not?\n",
    "\n",
    "(b) Repeat the calculation for $\\delta = 10^{−4}, 10^{−6}, 10^{−8}, 10^{−10}, 10^{−12}$ and $10^{−14}$. How does the accuracy scales with $\\delta$?"
   ]
  },
  {
<<<<<<< HEAD
   "cell_type": "code",
   "execution_count": 1,
   "metadata": {},
   "outputs": [
    {
     "name": "stdout",
     "output_type": "stream",
     "text": [
      "1.100000000000001\n",
      "1\n"
     ]
    }
   ],
   "source": [
    "def f(x): return x*(x-1)\n",
    "def df(x): return 2*x - 1\n",
    "\n",
    "# a\n",
    "delta = 10e-2\n",
    "x = 1\n",
    "\n",
    "df_dx = (f(x+delta) - f(x))/delta\n",
    "print(df_dx)\n",
    "print(df(x))"
   ]
  },
  {
   "cell_type": "code",
   "execution_count": 38,
   "metadata": {},
   "outputs": [
    {
     "name": "stdout",
     "output_type": "stream",
     "text": [
      "1.100000000000001\n",
      "1.0009999999998895\n",
      "1.0000100000065513\n",
      "1.0000001005838672\n",
      "1.000000083740371\n",
      "1.000000082750371\n",
      "0.9992007221627407\n"
     ]
    }
   ],
   "source": [
    "delta = [10e-2, 10e-4, 10e-6, 10e-8, 10e-10, 10e-12, 10e-14]\n",
    "\n",
    "for i in delta:\n",
    "    df_dx = df_dx = (f(x+i) - f(x))/i\n",
    "    print(df_dx)"
   ]
  },
  {
=======
>>>>>>> upstream/main
   "cell_type": "markdown",
   "metadata": {},
   "source": [
    "7\\. Consider the integral of the semicircle of radius 1:\n",
    "$$\n",
    "I=\\int_{-1}^{1} \\sqrt(1-x^2) {\\rm d}x\n",
    "$$\n",
    "which it's known to be $I=\\frac{\\pi}{2}=1.57079632679...$.\n",
    "Alternatively we can use the Riemann definition of the integral:\n",
    "$$\n",
    "I=\\lim_{N\\to\\infty} \\sum_{k=1}^{N} h y_k \n",
    "$$\n",
    "\n",
    "with $h=2/N$ the width of each of the $N$ slices the domain is divided into and where\n",
    "$y_k$ is the value of the function at the $k-$th slice.\n",
    "\n",
    "(a) Write a programe to compute the integral with $N=100$. How does the result compares to the true value?\n",
    "\n",
    "(b) How much can $N$ be increased if the computation needs to be run in less than a second? What is the gain in running it for 1 minute? \n"
   ]
  },
  {
   "cell_type": "code",
<<<<<<< HEAD
   "execution_count": 55,
   "metadata": {},
   "outputs": [
    {
     "name": "stdout",
     "output_type": "stream",
     "text": [
      "1.569134255549248\n",
      "Difference with the real value:  0.0016620712456485442 ,  0.16620712456485442 %\n"
     ]
    }
   ],
   "source": [
    "from math import sqrt, pi\n",
    "import numpy as np\n",
    "\n",
    "def f(x): return sqrt(1-x**2)\n",
    "\n",
    "N = 100\n",
    "h = 2/N\n",
    "range = np.arange(-1, 1, h)\n",
    "\n",
    "I = 0\n",
    "for i in range:\n",
    "    I += h*f(i)\n",
    "\n",
    "print(I)\n",
    "print(\"Difference with the real value: \", pi/2 - I, \", \", (pi/2 - I)*100, \"%\")"
   ]
  },
  {
   "cell_type": "code",
=======
>>>>>>> upstream/main
   "execution_count": null,
   "metadata": {},
   "outputs": [],
   "source": []
  }
 ],
 "metadata": {
  "kernelspec": {
   "display_name": "Python 3 (ipykernel)",
   "language": "python",
   "name": "python3"
  },
  "language_info": {
   "codemirror_mode": {
    "name": "ipython",
    "version": 3
   },
   "file_extension": ".py",
   "mimetype": "text/x-python",
   "name": "python",
   "nbconvert_exporter": "python",
   "pygments_lexer": "ipython3",
<<<<<<< HEAD
   "version": "3.12.0"
  }
 },
 "nbformat": 4,
 "nbformat_minor": 4
=======
   "version": "3.9.7"
  }
 },
 "nbformat": 4,
 "nbformat_minor": 2
>>>>>>> upstream/main
}
