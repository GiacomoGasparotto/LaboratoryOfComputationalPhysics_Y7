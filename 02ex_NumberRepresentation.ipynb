{
 "cells": [
  {
   "cell_type": "markdown",
   "metadata": {},
   "source": [
    "1\\. Write a function that converts number representation, bin<->dec<->hex. (Clearly using the corresponding python built-in functions is not fair..)"
   ]
  },
  {
   "cell_type": "code",
   "execution_count": 20,
   "metadata": {},
   "outputs": [
    {
     "name": "stdout",
     "output_type": "stream",
     "text": [
      "Decimal number:\n",
      "1111011\n",
      "7B\n",
      "\n",
      "Binary number:\n",
      "123\n",
      "\n",
      "Hexadecimal number:\n",
      "123\n"
     ]
    }
   ],
   "source": [
    "def number_conversion(n, from_number, to_number):\n",
    "\n",
    "    # hexadecimal digits\n",
    "    digits = \"0123456789ABCDEF\"\n",
    "\n",
    "    match (from_number, to_number):\n",
    "        # decimal to binary\n",
    "        case (\"dec\", \"bin\"):\n",
    "            bin = \"\"\n",
    "\n",
    "            if n==0: return \"0\"\n",
    "            while n>0:\n",
    "                bin = str(n%2)+bin\n",
    "                n //= 2\n",
    "            return bin\n",
    "        \n",
    "        # decimal to hexadecimal\n",
    "        case (\"dec\", \"hex\"):\n",
    "            hex = \"\"\n",
    "\n",
    "            if n==0: return \"0\"\n",
    "            while n>0:\n",
    "                hex = digits[n%16]+hex\n",
    "                n //= 16\n",
    "            return hex\n",
    "        \n",
    "        # binary to decimal\n",
    "        case (\"bin\", \"dec\"):\n",
    "            n = str(n)\n",
    "            dec, pow = 0, 0\n",
    "        \n",
    "            for i in reversed(n):\n",
    "                dec += int(i)*(2**pow)\n",
    "                pow += 1\n",
    "            return dec\n",
    "        \n",
    "        # hexadecimal to decimal\n",
    "        case (\"hex\", \"dec\"):\n",
    "            n = str(n)\n",
    "            dec, pow = 0, 0\n",
    "            \n",
    "            for i in reversed(n):\n",
    "                dec += digits.index(i)*(16**pow)\n",
    "                pow += 1\n",
    "            return dec\n",
    "\n",
    "# Examples, I use 123 as number\n",
    "dec_number = 123\n",
    "bin_number = \"1111011\"\n",
    "hex_number = \"7B\"\n",
    "\n",
    "print(\"Decimal number:\")\n",
    "print(number_conversion(dec_number, \"dec\", \"bin\"))\n",
    "print(number_conversion(dec_number, \"dec\", \"hex\"))\n",
    "\n",
    "print(\"\\nBinary number:\")\n",
    "print(number_conversion(bin_number, \"bin\", \"dec\"))\n",
    "\n",
    "print(\"\\nHexadecimal number:\")\n",
    "print(number_conversion(hex_number, \"hex\", \"dec\"))"
   ]
  },
  {
   "cell_type": "markdown",
   "metadata": {},
   "source": [
    "2\\. Write a function that converts a 32 bit word into a single precision floating point (i.e. interprets the various bits as sign, mantissa and exponent)"
   ]
  },
  {
   "cell_type": "code",
   "execution_count": 22,
   "metadata": {},
   "outputs": [
    {
     "name": "stdout",
     "output_type": "stream",
     "text": [
      "-4.5\n"
     ]
    }
   ],
   "source": [
    "def float_decode(word):\n",
    "    #bit 31     -> sign\n",
    "    #bit 30-23  -> exponent\n",
    "    #bit 22-0   -> mantissa\n",
    "\n",
    "    sign = 0x40000000\n",
    "    exp = 0x7F800000\n",
    "    mantissa = 0x7FFFFF\n",
    "    masks = [2**i for i in range(23)]\n",
    "    bias = 127\n",
    "\n",
    "    sign = (word & sign) >> 30\n",
    "    exponent = (word & exp) >> 23\n",
    "    mantissa = word & mantissa\n",
    "\n",
    "    number = 1\n",
    "    for i, mask in enumerate(masks):\n",
    "        number+= ((mantissa&mask) >> i)*(2**(-len(masks)+i))\n",
    "    number*=(-1)**sign*2**(exponent-bias) \n",
    "\n",
    "    return(number)\n",
    "\n",
    "print(float_decode(0xc0900000))"
   ]
  },
  {
   "cell_type": "markdown",
   "metadata": {},
   "source": [
    "3\\. Write a program to determine the underflow and overflow limits (within a factor of 2) for python on your computer. \n",
    "\n",
    "**Tips**: define two variables inizialized to 1 and halve/double them enough time to exceed the under/over-flow limits  "
   ]
  },
  {
   "cell_type": "code",
   "execution_count": 29,
   "metadata": {},
   "outputs": [
    {
     "name": "stdout",
     "output_type": "stream",
     "text": [
      "Overflow limit: 8.98846567431158e+307\n",
      "Underflow limit: 5e-324\n"
     ]
    }
   ],
   "source": [
    "def overflow_limit(value):\n",
    "\n",
    "    while True:\n",
    "        prev_value = value\n",
    "        value *= 2\n",
    "\n",
    "        if value == float('inf'): \n",
    "            return prev_value\n",
    "        elif value == 0:  \n",
    "            return \"Unexpected underflow during overflow test.\"\n",
    "\n",
    "def underflow_limit(value):\n",
    "\n",
    "    while value > 0:\n",
    "        prev_value = value\n",
    "        value /= 2\n",
    "        if value == 0: \n",
    "            return prev_value\n",
    "\n",
    "\n",
    "print(f\"Overflow limit: {overflow_limit(1.0)}\")\n",
    "print(f\"Underflow limit: {underflow_limit(1.0)}\")"
   ]
  },
  {
   "cell_type": "markdown",
   "metadata": {},
   "source": [
    "4\\. Write a program to determine the machine precision\n",
    "\n",
    "**Tips**: define a new variable by adding a smaller and smaller value (proceeding similarly to prob. 2) to an original variable and check the point where the two are the same "
   ]
  },
  {
   "cell_type": "code",
   "execution_count": 36,
   "metadata": {},
   "outputs": [
    {
     "name": "stdout",
     "output_type": "stream",
     "text": [
      "Machine precision: 16\n"
     ]
    }
   ],
   "source": [
    "def machine_precision(n1, n2):\n",
    "    i = 1\n",
    "    while (n1 != n2):\n",
    "        n2 = n1+10**(-i)\n",
    "        i += 1\n",
    "    \n",
    "    return i-1\n",
    "\n",
    "print(f\"Machine precision: {machine_precision(1, 2)}\")"
   ]
  },
  {
   "cell_type": "markdown",
   "metadata": {},
   "source": [
    "5\\. Write a function that takes in input three parameters $a$, $b$ and $c$ and prints out the two solutions to the quadratic equation $ax^2+bx+c=0$ using the standard formula:\n",
    "$$\n",
    "x=\\frac{-b\\pm\\sqrt{b^2-4ac}}{2a}\n",
    "$$\n",
    "\n",
    "(a) use the program to compute the solution for $a=0.001$, $b=1000$ and $c=0.001$\n",
    "\n",
    "(b) re-express the standard solution formula by multiplying top and bottom by $-b\\mp\\sqrt{b^2-4ac}$ and again find the solution for $a=0.001$, $b=1000$ and $c=0.001$. How does it compare with what previously obtained? Why?\n",
    "\n",
    "(c) write a function that compute the roots of a quadratic equation accurately in all cases"
   ]
  },
  {
   "cell_type": "code",
   "execution_count": 44,
   "metadata": {},
   "outputs": [
    {
     "name": "stdout",
     "output_type": "stream",
     "text": [
      "(-9.999894245993346e-07, -999999.999999)\n",
      "(-1000010.5755125057, -1.000000000001e-06)\n",
      "(-999999.999999, -1.000000000001e-06)\n"
     ]
    }
   ],
   "source": [
    "from math import sqrt\n",
    "\n",
    "def quadratic_sol(a, b, c):\n",
    "    x1 = (-b + sqrt(b**2 - 4*a*c)) / (2*a)\n",
    "    x2 = (-b - sqrt(b**2 - 4*a*c)) / (2*a)\n",
    "\n",
    "    return x1, x2\n",
    "\n",
    "def quadratic_sol_v2(a, b, c):\n",
    "    x1 = (2*c)/(-b+sqrt(b**2-4*a*c))\n",
    "    x2 = (2*c)/(-b-sqrt(b**2-4*a*c))\n",
    "\n",
    "    return x1, x2\n",
    "\n",
    "def quadratic_sol_acc(a, b, c):\n",
    "    if b > 0:\n",
    "        x1 = (-b - sqrt(b**2-4*a*c)) / (2*a)\n",
    "        x2 = (2*c) / (-b - sqrt(b**2-4*a*c))\n",
    "    else:\n",
    "        x1 = 2*c/(-b + sqrt(b**2 - 4*a*c))\n",
    "        x2 = (-b + sqrt(b**2 - 4*a*c)/(2*a))\n",
    "    \n",
    "    return x1, x2\n",
    "\n",
    "\n",
    "\n",
    "a = 0.001\n",
    "b = 1000\n",
    "c = 0.001\n",
    "\n",
    "print(quadratic_sol(a, b, c))\n",
    "print(quadratic_sol_v2(a, b, c))\n",
    "print(quadratic_sol_acc(a, b, c))"
   ]
  },
  {
   "cell_type": "markdown",
   "metadata": {},
   "source": [
    "6\\. Write a program that implements the function $f(x)=x(x−1)$\n",
    "\n",
    "(a) Calculate the derivative of the function at the point $x = 1$ using the derivative definition:\n",
    "\n",
    "$$\n",
    "\\frac{{\\rm d}f}{{\\rm d}x} = \\lim_{\\delta\\to0} \\frac{f(x+\\delta)-f(x)}{\\delta}\n",
    "$$\n",
    "\n",
    "with $\\delta = 10^{−2}$. Calculate the true value of the same derivative analytically and compare with the answer your program gives. The two will not agree perfectly. Why not?\n",
    "\n",
    "(b) Repeat the calculation for $\\delta = 10^{−4}, 10^{−6}, 10^{−8}, 10^{−10}, 10^{−12}$ and $10^{−14}$. How does the accuracy scales with $\\delta$?"
   ]
  },
  {
   "cell_type": "code",
   "execution_count": 47,
   "metadata": {},
   "outputs": [
    {
     "name": "stdout",
     "output_type": "stream",
     "text": [
      "1.010000000000001\n",
      "1\n",
      "1.0000999999998899\n",
      "1.0000009999177333\n",
      "1.0000000039225287\n",
      "1.000000082840371\n",
      "1.0000889005833413\n",
      "0.9992007221626509\n"
     ]
    }
   ],
   "source": [
    "# A\n",
    "# Define the function\n",
    "def f(x):\n",
    "    return x*(x-1)\n",
    "\n",
    "# Define the derivative\n",
    "def der_f(x):\n",
    "    return 2*x - 1\n",
    "\n",
    "# Define variables\n",
    "delta = 10**(-2)\n",
    "x = 1\n",
    "\n",
    "# Compute derivative both with the limit and the definition\n",
    "df_dx = (f(x+delta) - f(x)) / delta\n",
    "print(df_dx)\n",
    "print(der_f(x))\n",
    "\n",
    "# B\n",
    "deltas = [10**-4, 10**-6, 10**-8, 10**-10, 10**-12, 10**-14]\n",
    "for i in deltas:\n",
    "    print((f(x+i) - f(x)) / i)"
   ]
  },
  {
   "cell_type": "markdown",
   "metadata": {},
   "source": [
    "7\\. Consider the integral of the semicircle of radius 1:\n",
    "$$\n",
    "I=\\int_{-1}^{1} \\sqrt(1-x^2) {\\rm d}x\n",
    "$$\n",
    "which it's known to be $I=\\frac{\\pi}{2}=1.57079632679...$.\n",
    "Alternatively we can use the Riemann definition of the integral:\n",
    "$$\n",
    "I=\\lim_{N\\to\\infty} \\sum_{k=1}^{N} h y_k \n",
    "$$\n",
    "\n",
    "with $h=2/N$ the width of each of the $N$ slices the domain is divided into and where\n",
    "$y_k$ is the value of the function at the $k-$th slice.\n",
    "\n",
    "(a) Write a programe to compute the integral with $N=100$. How does the result compares to the true value?\n",
    "\n",
    "(b) How much can $N$ be increased if the computation needs to be run in less than a second? What is the gain in running it for 1 minute? \n"
   ]
  },
  {
   "cell_type": "code",
   "execution_count": 62,
   "metadata": {},
   "outputs": [
    {
     "name": "stdout",
     "output_type": "stream",
     "text": [
      "Integral value:  1.5691342555492505\n",
      "Difference from original value:  0.0016620712456461018\n"
     ]
    }
   ],
   "source": [
    "# A\n",
    "from math import sqrt, pi\n",
    "\n",
    "# Define the function\n",
    "def f(x):\n",
    "    return sqrt(1-x**2)\n",
    "\n",
    "# Define the integral\n",
    "def integral(domain, h):\n",
    "    I = 0\n",
    "    for i in domain:\n",
    "        I += h*f(i)\n",
    "    \n",
    "    return I\n",
    "\n",
    "N = 100\n",
    "h = 2/N\n",
    "domain = [i*h -1 for i in range(N+1)]\n",
    "\n",
    "print(\"Integral value: \", integral(domain, h))\n",
    "print(\"Difference from original value: \", pi/2 - integral(domain, h))"
   ]
  }
 ],
 "metadata": {
  "kernelspec": {
   "display_name": "Python 3 (ipykernel)",
   "language": "python",
   "name": "python3"
  },
  "language_info": {
   "codemirror_mode": {
    "name": "ipython",
    "version": 3
   },
   "file_extension": ".py",
   "mimetype": "text/x-python",
   "name": "python",
   "nbconvert_exporter": "python",
   "pygments_lexer": "ipython3",
   "version": "3.12.0"
  }
 },
 "nbformat": 4,
 "nbformat_minor": 2
}
